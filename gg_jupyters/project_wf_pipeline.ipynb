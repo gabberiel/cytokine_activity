{
 "cells": [
  {
   "cell_type": "markdown",
   "metadata": {},
   "source": [
    "# Pipline for waveform analysis A-Z.\n",
    "### Clustering neural signals associated to cytokine activity.\n",
    "#### Gabriel Andersson \n",
    "---"
   ]
  },
  {
   "cell_type": "markdown",
   "metadata": {},
   "source": [
    "### Main imports:"
   ]
  },
  {
   "cell_type": "code",
   "execution_count": 14,
   "metadata": {},
   "outputs": [],
   "source": [
    "import sys\n",
    "import warnings\n",
    "sys.path.insert(1,'../')\n",
    "\n",
    "import numpy as np\n",
    "import matplotlib.pyplot as plt"
   ]
  },
  {
   "cell_type": "markdown",
   "metadata": {},
   "source": [
    "First pre-process steps of raw plx-file avalible at < qqq. > is done in MATLAB. The resulting files **waveforms** and **timestamps** are saved in the corresponing paths below.\n",
    "\n",
    "---\n",
    "## Loading **waveforms** and **timestamps** : "
   ]
  },
  {
   "cell_type": "code",
   "execution_count": 2,
   "metadata": {},
   "outputs": [
    {
     "name": "stdout",
     "output_type": "stream",
     "text": [
      "MATLAB files loaded succesfully...\n",
      "\n",
      "Shape of waveforms: (136259, 141).\n",
      "\n",
      "Shape of timestamps: (136259, 1).\n",
      "\n"
     ]
    }
   ],
   "source": [
    "# HERE THE FILES IS TO BE LOADED\n",
    "from scipy.io import loadmat\n",
    "path_to_wf = '../../matlab_files/gg_waveforms-R10_IL1B_TNF_03.mat'\n",
    "path_to_ts = '../../matlab_files/gg_timestamps.mat'\n",
    "\n",
    "\n",
    "waveforms = loadmat(path_to_wf)\n",
    "#print(f' keys of matlab file: {waveforms.keys()}')\n",
    "waveforms = waveforms['waveforms']\n",
    "timestamps = loadmat(path_to_ts)['gg_timestamps']\n",
    "print('MATLAB files loaded succesfully...')\n",
    "print()\n",
    "print(f'Shape of waveforms: {waveforms.shape}.')\n",
    "print()\n",
    "print(f'Shape of timestamps: {timestamps.shape}.')\n",
    "print()\n",
    "assert waveforms.shape[0] == timestamps.shape[0], 'Missmatch of waveforms and timestamps shape.'"
   ]
  },
  {
   "cell_type": "markdown",
   "metadata": {},
   "source": [
    "---\n",
    "## Preprocess of the loaded files. \n",
    "The preprocess funtions are avalible in **preprocess_wf.py**"
   ]
  },
  {
   "cell_type": "code",
   "execution_count": 19,
   "metadata": {},
   "outputs": [],
   "source": [
    "# Preprocess waveforms\n",
    "#---------------------\n",
    "import preprocess_wf as preprocess \n",
    "# ****STEPS IN PROCESS****\n",
    "# - Standardise\n",
    "wf_std = preprocess.standardise_wf(waveforms)\n",
    "# - Some translation invariant representation? "
   ]
  },
  {
   "cell_type": "markdown",
   "metadata": {},
   "source": [
    "---\n",
    "## Label the waveforms with their respective change in event rate $\\Delta EV$ at time of injections\n",
    "### Alternativly use probability given considered waveform as mean. However similar results..\n",
    "The process goes like: \n",
    "- Use tandardise waveforms\n",
    "- Calculate correlation $\\rho_{ij}$ between each waveform\n",
    "- Consider waveforms as \"similar\" if $\\rho_{ij} > THRES$, for some threshold ($THRES=0.6$). Label these into a cluster with label 1, otherwise 0.\n",
    "- Calculate event rate for the 1-cluster.\n",
    "- Caclate the change in event rate after injections $\\{ \\Delta EV_i\\}_{i=1}^2$, and consider it sufficient if $\\Delta EV_i > \\sigma_{ev_i}$, where $\\sigma_{ev_i}$ is the standard deviation during the \"baseline\" period. That is, the time before each injection. \n",
    "\n",
    "The nessasary funtions are avalible in **event_rates.py** and **wf_similarity_measure.py**"
   ]
  },
  {
   "cell_type": "markdown",
   "metadata": {},
   "source": [
    "Experementing with the hyperparameter \"THRES\" in the notebook \"tune_ev_label_hyp_params\" lead me choose $THRES=0.6$. This as a result of considering both size of similarity-cluster together with how similar the waveforms actually are within cluster.\n",
    "\n",
    "- qqq: still no translation invariant measure."
   ]
  },
  {
   "cell_type": "code",
   "execution_count": 24,
   "metadata": {
    "collapsed": true,
    "jupyter": {
     "outputs_hidden": true
    }
   },
   "outputs": [
    {
     "name": "stdout",
     "output_type": "stream",
     "text": [
      "Time for 0 labels : 0.5025441646575928\n",
      "Time for 2000 labels : 8.814529180526733\n",
      "Time for 4000 labels : 16.14594793319702\n",
      "Time for 6000 labels : 23.602784156799316\n"
     ]
    },
    {
     "ename": "KeyboardInterrupt",
     "evalue": "",
     "output_type": "error",
     "traceback": [
      "\u001b[0;31m---------------------------------------------------------------------------\u001b[0m",
      "\u001b[0;31mKeyboardInterrupt\u001b[0m                         Traceback (most recent call last)",
      "\u001b[0;32m<ipython-input-24-32486604326d>\u001b[0m in \u001b[0;36m<module>\u001b[0;34m\u001b[0m\n\u001b[1;32m     18\u001b[0m     \u001b[0mcorrelations\u001b[0m \u001b[0;34m=\u001b[0m \u001b[0mwf_correlation\u001b[0m\u001b[0;34m(\u001b[0m\u001b[0mi_range\u001b[0m\u001b[0;34m,\u001b[0m\u001b[0mwf_std\u001b[0m\u001b[0;34m)\u001b[0m\u001b[0;34m\u001b[0m\u001b[0;34m\u001b[0m\u001b[0m\n\u001b[1;32m     19\u001b[0m     \u001b[0;32mfor\u001b[0m \u001b[0mcorr_vec\u001b[0m \u001b[0;32min\u001b[0m \u001b[0mcorrelations\u001b[0m\u001b[0;34m.\u001b[0m\u001b[0mT\u001b[0m\u001b[0;34m:\u001b[0m\u001b[0;34m\u001b[0m\u001b[0;34m\u001b[0m\u001b[0m\n\u001b[0;32m---> 20\u001b[0;31m         \u001b[0mbool_labels\u001b[0m \u001b[0;34m=\u001b[0m \u001b[0mlabel_from_corr\u001b[0m\u001b[0;34m(\u001b[0m\u001b[0mcorr_vec\u001b[0m\u001b[0;34m,\u001b[0m\u001b[0mthreshold\u001b[0m\u001b[0;34m=\u001b[0m\u001b[0mthreshold\u001b[0m\u001b[0;34m,\u001b[0m\u001b[0mreturn_boolean\u001b[0m\u001b[0;34m=\u001b[0m\u001b[0;32mTrue\u001b[0m\u001b[0;34m)\u001b[0m\u001b[0;34m\u001b[0m\u001b[0;34m\u001b[0m\u001b[0m\n\u001b[0m\u001b[1;32m     21\u001b[0m         \u001b[0mevent_rates\u001b[0m\u001b[0;34m,\u001b[0m \u001b[0mreal_clusters\u001b[0m \u001b[0;34m=\u001b[0m \u001b[0mget_event_rates\u001b[0m\u001b[0;34m(\u001b[0m\u001b[0mtimestamps\u001b[0m\u001b[0;34m[\u001b[0m\u001b[0;34m:\u001b[0m\u001b[0;34m,\u001b[0m\u001b[0;36m0\u001b[0m\u001b[0;34m]\u001b[0m\u001b[0;34m,\u001b[0m\u001b[0mbool_labels\u001b[0m\u001b[0;34m,\u001b[0m\u001b[0mbin_width\u001b[0m\u001b[0;34m=\u001b[0m\u001b[0;36m1\u001b[0m\u001b[0;34m,\u001b[0m\u001b[0mconsider_only\u001b[0m\u001b[0;34m=\u001b[0m\u001b[0;36m1\u001b[0m\u001b[0;34m)\u001b[0m\u001b[0;34m\u001b[0m\u001b[0;34m\u001b[0m\u001b[0m\n\u001b[1;32m     22\u001b[0m         \u001b[0mdelta_ev\u001b[0m\u001b[0;34m,\u001b[0m \u001b[0mev_stats\u001b[0m \u001b[0;34m=\u001b[0m \u001b[0mdelta_ev_measure\u001b[0m\u001b[0;34m(\u001b[0m\u001b[0mevent_rates\u001b[0m\u001b[0;34m)\u001b[0m\u001b[0;34m\u001b[0m\u001b[0;34m\u001b[0m\u001b[0m\n",
      "\u001b[0;32m~/Desktop/xjobb/cytokine_activity/wf_similarity_measures.py\u001b[0m in \u001b[0;36mlabel_from_corr\u001b[0;34m(correlations, threshold, return_boolean)\u001b[0m\n\u001b[1;32m     82\u001b[0m     '''\n\u001b[1;32m     83\u001b[0m     \u001b[0;32mif\u001b[0m \u001b[0mreturn_boolean\u001b[0m\u001b[0;34m:\u001b[0m\u001b[0;34m\u001b[0m\u001b[0;34m\u001b[0m\u001b[0m\n\u001b[0;32m---> 84\u001b[0;31m         \u001b[0;32mreturn\u001b[0m \u001b[0mcorrelations\u001b[0m\u001b[0;34m>\u001b[0m\u001b[0mthreshold\u001b[0m\u001b[0;34m\u001b[0m\u001b[0;34m\u001b[0m\u001b[0m\n\u001b[0m\u001b[1;32m     85\u001b[0m     \u001b[0;32melse\u001b[0m\u001b[0;34m:\u001b[0m\u001b[0;34m\u001b[0m\u001b[0;34m\u001b[0m\u001b[0m\n\u001b[1;32m     86\u001b[0m         \u001b[0mlabels\u001b[0m \u001b[0;34m=\u001b[0m \u001b[0mnp\u001b[0m\u001b[0;34m.\u001b[0m\u001b[0mzeros\u001b[0m\u001b[0;34m(\u001b[0m\u001b[0;34m(\u001b[0m\u001b[0mcorrelations\u001b[0m\u001b[0;34m.\u001b[0m\u001b[0mshape\u001b[0m\u001b[0;34m[\u001b[0m\u001b[0;36m0\u001b[0m\u001b[0;34m]\u001b[0m\u001b[0;34m)\u001b[0m\u001b[0;34m)\u001b[0m\u001b[0;34m\u001b[0m\u001b[0;34m\u001b[0m\u001b[0m\n",
      "\u001b[0;31mKeyboardInterrupt\u001b[0m: "
     ]
    }
   ],
   "source": [
    "import time\n",
    "from event_rate_first import *\n",
    "from wf_similarity_measures import *\n",
    "# OBS assumes existance of the standardised waveforms : wf_std\n",
    "\n",
    "# Calculate event_rates \n",
    "threshold=0.6\n",
    "sub_steps = 1000\n",
    "\n",
    "ev_labels = np.empty((3,waveforms.shape[0]))\n",
    "\n",
    "ii = 0\n",
    "\n",
    "start_t = time.time()\n",
    "prev_substep = 0\n",
    "for sub_step in np.arange(0,waveforms.shape[0],sub_steps):\n",
    "    i_range = np.arange(prev_substep,sub_step)\n",
    "    correlations = wf_correlation(i_range,wf_std)\n",
    "    for corr_vec in correlations.T:\n",
    "        bool_labels = label_from_corr(corr_vec,threshold=threshold,return_boolean=True)\n",
    "        event_rates, real_clusters = get_event_rates(timestamps[:,0],bool_labels,bin_width=1,consider_only=1)\n",
    "        delta_ev, ev_stats = delta_ev_measure(event_rates)\n",
    "        #ev_labels = ev_label(delta_ev,ev_stats,n_std=1)\n",
    "        ev_labels[:,ii] = ev_label(delta_ev,ev_stats,n_std=1)[:,0]\n",
    "        ii +=1\n",
    "    prev_substep = sub_step\n",
    "    if ii%2000==0:\n",
    "        print(f'Time for {ii} labels : {time.time()-start_t}')"
   ]
  },
  {
   "cell_type": "markdown",
   "metadata": {},
   "source": [
    "---\n",
    "## Build and train conditional VAE using labeled data $\\mathcal{T} = \\{ (x_i, \\Delta EV_i) \\}_{i=1}^N$"
   ]
  },
  {
   "cell_type": "code",
   "execution_count": null,
   "metadata": {},
   "outputs": [],
   "source": [
    "# Build and train CVAE -- Probably best to train using terminal and just load saved weights...\n",
    "# yet to be done..."
   ]
  },
  {
   "cell_type": "markdown",
   "metadata": {},
   "source": [
    "---\n",
    "## Perform gradiant decent on $I(x|\\Delta EV > 0) = - \\log p(x|\\Delta EV>0)$\n",
    "\n",
    "The result will be the most probable waveforms given that the event rate increases after injection, or high probability data-points (hpdp). Denote : $\\{ \\hat{x}_j \\}_{j=1}^m$\n"
   ]
  },
  {
   "cell_type": "code",
   "execution_count": null,
   "metadata": {},
   "outputs": [],
   "source": [
    "# Perform GD on conditional pdf.."
   ]
  },
  {
   "cell_type": "markdown",
   "metadata": {},
   "source": [
    "---\n",
    "## Label the hpdp in some way..."
   ]
  },
  {
   "cell_type": "code",
   "execution_count": null,
   "metadata": {},
   "outputs": [],
   "source": [
    "# Final labeling"
   ]
  },
  {
   "cell_type": "markdown",
   "metadata": {},
   "source": [
    "---\n",
    "# Calculate the event rate of the final result and see if we can infer something or not."
   ]
  },
  {
   "cell_type": "markdown",
   "metadata": {},
   "source": []
  },
  {
   "cell_type": "markdown",
   "metadata": {},
   "source": []
  }
 ],
 "metadata": {
  "kernelspec": {
   "display_name": "tf2",
   "language": "python",
   "name": "tf2"
  },
  "language_info": {
   "codemirror_mode": {
    "name": "ipython",
    "version": 3
   },
   "file_extension": ".py",
   "mimetype": "text/x-python",
   "name": "python",
   "nbconvert_exporter": "python",
   "pygments_lexer": "ipython3",
   "version": "3.8.5"
  }
 },
 "nbformat": 4,
 "nbformat_minor": 4
}
